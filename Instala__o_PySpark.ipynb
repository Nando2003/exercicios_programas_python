{
  "nbformat": 4,
  "nbformat_minor": 0,
  "metadata": {
    "colab": {
      "provenance": [],
      "collapsed_sections": [
        "ltP7wPreyLhz",
        "nBZ5rch4y66d",
        "z7I3-UI0zQF9",
        "_ZHxxkvK0SLF",
        "7EN_zAHi3jZv",
        "2rKsJzv652Sd",
        "2meb5_T29Fj_",
        "TZq_hLfT-I3L",
        "IlwoLni8-jRd"
      ]
    },
    "kernelspec": {
      "name": "python3",
      "display_name": "Python 3"
    },
    "language_info": {
      "name": "python"
    }
  },
  "cells": [
    {
      "cell_type": "markdown",
      "source": [
        "## Instalação do PySpark"
      ],
      "metadata": {
        "id": "WwUdF_I6va-z"
      }
    },
    {
      "cell_type": "markdown",
      "source": [
        "# Instalando o Java 8"
      ],
      "metadata": {
        "id": "nnMvLCYOvhKL"
      }
    },
    {
      "cell_type": "code",
      "source": [
        "!apt-get install openjdk-8-jdk-headless -qq > /dev/null"
      ],
      "metadata": {
        "id": "LFVX1aHSvkNa"
      },
      "execution_count": 1,
      "outputs": []
    },
    {
      "cell_type": "markdown",
      "source": [
        "# Baixando spark"
      ],
      "metadata": {
        "id": "PbSwDwmJwuSr"
      }
    },
    {
      "cell_type": "code",
      "source": [
        "!wget -q https://archive.apache.org/dist/spark/spark-3.1.2/spark-3.1.2-bin-hadoop2.7.tgz"
      ],
      "metadata": {
        "id": "4DKR86Ksw0nT"
      },
      "execution_count": 2,
      "outputs": []
    },
    {
      "cell_type": "markdown",
      "source": [
        "# Descompatacando o spark"
      ],
      "metadata": {
        "id": "ltP7wPreyLhz"
      }
    },
    {
      "cell_type": "code",
      "source": [
        "!tar xf spark-3.1.2-bin-hadoop2.7.tgz"
      ],
      "metadata": {
        "id": "u7TEDpVTyM_s"
      },
      "execution_count": 3,
      "outputs": []
    },
    {
      "cell_type": "markdown",
      "source": [
        "# Instalando o findspark"
      ],
      "metadata": {
        "id": "nBZ5rch4y66d"
      }
    },
    {
      "cell_type": "code",
      "source": [
        "!pip install -q findspark"
      ],
      "metadata": {
        "id": "OTBezr5py-Nk"
      },
      "execution_count": 4,
      "outputs": []
    },
    {
      "cell_type": "markdown",
      "source": [
        "# Instalando o pyspark\n"
      ],
      "metadata": {
        "id": "z7I3-UI0zQF9"
      }
    },
    {
      "cell_type": "code",
      "source": [
        "!pip install -q pyspark"
      ],
      "metadata": {
        "colab": {
          "base_uri": "https://localhost:8080/"
        },
        "id": "JlBqh2LJzTYc",
        "outputId": "9962d79c-87c0-4777-8c3e-a39c373123c8"
      },
      "execution_count": 5,
      "outputs": [
        {
          "output_type": "stream",
          "name": "stdout",
          "text": [
            "\u001b[2K     \u001b[90m━━━━━━━━━━━━━━━━━━━━━━━━━━━━━━━━━━━━━━━\u001b[0m \u001b[32m310.8/310.8 MB\u001b[0m \u001b[31m4.5 MB/s\u001b[0m eta \u001b[36m0:00:00\u001b[0m\n",
            "\u001b[?25h  Preparing metadata (setup.py) ... \u001b[?25l\u001b[?25hdone\n",
            "  Building wheel for pyspark (setup.py) ... \u001b[?25l\u001b[?25hdone\n"
          ]
        }
      ]
    },
    {
      "cell_type": "markdown",
      "source": [
        "# Definindo as variáveis de ambiente"
      ],
      "metadata": {
        "id": "_ZHxxkvK0SLF"
      }
    },
    {
      "cell_type": "code",
      "source": [
        "import os\n",
        "os.environ['JAVA_HOME'] = '/usr/lib/jvm/java-8-openjdk-amd64'\n",
        "os.environ['SPARK_HOME'] = '/content/spark-3.1.2-bin-hadoop2.7'"
      ],
      "metadata": {
        "id": "r-qD7vyH0V40"
      },
      "execution_count": 6,
      "outputs": []
    },
    {
      "cell_type": "markdown",
      "source": [
        "# Iniciando o spark"
      ],
      "metadata": {
        "id": "7EN_zAHi3jZv"
      }
    },
    {
      "cell_type": "code",
      "source": [
        "import findspark\n",
        "findspark.init()"
      ],
      "metadata": {
        "id": "eQSIekl93k3W"
      },
      "execution_count": 7,
      "outputs": []
    },
    {
      "cell_type": "markdown",
      "source": [
        "# Data Frame"
      ],
      "metadata": {
        "id": "nyxbfp-onqBS"
      }
    },
    {
      "cell_type": "code",
      "source": [
        "#CRIANDO UMA SESSÃO\n",
        "\n",
        "from pyspark.sql import SparkSession\n",
        "\n",
        "spark = SparkSession.builder\\\n",
        ".master('local[*]')\\\n",
        ".appName('Dataframes com spark')\\\n",
        ".getOrCreate()\n",
        "\n",
        "#CRIANDO DATA FRAME\n",
        "\n",
        "dados = [('Carla', '23'),\n",
        "         ('Zeca', '33'),\n",
        "         ('Pedro', '52'),\n",
        "         ('Gabi', '19'), \n",
        "         ('Mariana', '22'), \n",
        "         ('João,', '34'), \n",
        "         ('Kelly', '43')\n",
        "         ]\n",
        "\n",
        "colunas = ['Nome', 'Idade']\n",
        "\n",
        "df1 = spark.createDataFrame(dados, colunas)\n",
        "df1.show()\n",
        "\n",
        "df1.limit(20).toPandas()"
      ],
      "metadata": {
        "id": "-uyqWl4Qnj17",
        "colab": {
          "base_uri": "https://localhost:8080/",
          "height": 477
        },
        "outputId": "dd20d5e4-2bd9-43da-f1b7-5c776e8cbb19"
      },
      "execution_count": 8,
      "outputs": [
        {
          "output_type": "stream",
          "name": "stdout",
          "text": [
            "+-------+-----+\n",
            "|   Nome|Idade|\n",
            "+-------+-----+\n",
            "|  Carla|   23|\n",
            "|   Zeca|   33|\n",
            "|  Pedro|   52|\n",
            "|   Gabi|   19|\n",
            "|Mariana|   22|\n",
            "|  João,|   34|\n",
            "|  Kelly|   43|\n",
            "+-------+-----+\n",
            "\n"
          ]
        },
        {
          "output_type": "execute_result",
          "data": {
            "text/plain": [
              "      Nome Idade\n",
              "0    Carla    23\n",
              "1     Zeca    33\n",
              "2    Pedro    52\n",
              "3     Gabi    19\n",
              "4  Mariana    22\n",
              "5    João,    34\n",
              "6    Kelly    43"
            ],
            "text/html": [
              "\n",
              "  <div id=\"df-48268ffe-05e6-4d38-aea2-283f13728bbf\">\n",
              "    <div class=\"colab-df-container\">\n",
              "      <div>\n",
              "<style scoped>\n",
              "    .dataframe tbody tr th:only-of-type {\n",
              "        vertical-align: middle;\n",
              "    }\n",
              "\n",
              "    .dataframe tbody tr th {\n",
              "        vertical-align: top;\n",
              "    }\n",
              "\n",
              "    .dataframe thead th {\n",
              "        text-align: right;\n",
              "    }\n",
              "</style>\n",
              "<table border=\"1\" class=\"dataframe\">\n",
              "  <thead>\n",
              "    <tr style=\"text-align: right;\">\n",
              "      <th></th>\n",
              "      <th>Nome</th>\n",
              "      <th>Idade</th>\n",
              "    </tr>\n",
              "  </thead>\n",
              "  <tbody>\n",
              "    <tr>\n",
              "      <th>0</th>\n",
              "      <td>Carla</td>\n",
              "      <td>23</td>\n",
              "    </tr>\n",
              "    <tr>\n",
              "      <th>1</th>\n",
              "      <td>Zeca</td>\n",
              "      <td>33</td>\n",
              "    </tr>\n",
              "    <tr>\n",
              "      <th>2</th>\n",
              "      <td>Pedro</td>\n",
              "      <td>52</td>\n",
              "    </tr>\n",
              "    <tr>\n",
              "      <th>3</th>\n",
              "      <td>Gabi</td>\n",
              "      <td>19</td>\n",
              "    </tr>\n",
              "    <tr>\n",
              "      <th>4</th>\n",
              "      <td>Mariana</td>\n",
              "      <td>22</td>\n",
              "    </tr>\n",
              "    <tr>\n",
              "      <th>5</th>\n",
              "      <td>João,</td>\n",
              "      <td>34</td>\n",
              "    </tr>\n",
              "    <tr>\n",
              "      <th>6</th>\n",
              "      <td>Kelly</td>\n",
              "      <td>43</td>\n",
              "    </tr>\n",
              "  </tbody>\n",
              "</table>\n",
              "</div>\n",
              "      <button class=\"colab-df-convert\" onclick=\"convertToInteractive('df-48268ffe-05e6-4d38-aea2-283f13728bbf')\"\n",
              "              title=\"Convert this dataframe to an interactive table.\"\n",
              "              style=\"display:none;\">\n",
              "        \n",
              "  <svg xmlns=\"http://www.w3.org/2000/svg\" height=\"24px\"viewBox=\"0 0 24 24\"\n",
              "       width=\"24px\">\n",
              "    <path d=\"M0 0h24v24H0V0z\" fill=\"none\"/>\n",
              "    <path d=\"M18.56 5.44l.94 2.06.94-2.06 2.06-.94-2.06-.94-.94-2.06-.94 2.06-2.06.94zm-11 1L8.5 8.5l.94-2.06 2.06-.94-2.06-.94L8.5 2.5l-.94 2.06-2.06.94zm10 10l.94 2.06.94-2.06 2.06-.94-2.06-.94-.94-2.06-.94 2.06-2.06.94z\"/><path d=\"M17.41 7.96l-1.37-1.37c-.4-.4-.92-.59-1.43-.59-.52 0-1.04.2-1.43.59L10.3 9.45l-7.72 7.72c-.78.78-.78 2.05 0 2.83L4 21.41c.39.39.9.59 1.41.59.51 0 1.02-.2 1.41-.59l7.78-7.78 2.81-2.81c.8-.78.8-2.07 0-2.86zM5.41 20L4 18.59l7.72-7.72 1.47 1.35L5.41 20z\"/>\n",
              "  </svg>\n",
              "      </button>\n",
              "      \n",
              "  <style>\n",
              "    .colab-df-container {\n",
              "      display:flex;\n",
              "      flex-wrap:wrap;\n",
              "      gap: 12px;\n",
              "    }\n",
              "\n",
              "    .colab-df-convert {\n",
              "      background-color: #E8F0FE;\n",
              "      border: none;\n",
              "      border-radius: 50%;\n",
              "      cursor: pointer;\n",
              "      display: none;\n",
              "      fill: #1967D2;\n",
              "      height: 32px;\n",
              "      padding: 0 0 0 0;\n",
              "      width: 32px;\n",
              "    }\n",
              "\n",
              "    .colab-df-convert:hover {\n",
              "      background-color: #E2EBFA;\n",
              "      box-shadow: 0px 1px 2px rgba(60, 64, 67, 0.3), 0px 1px 3px 1px rgba(60, 64, 67, 0.15);\n",
              "      fill: #174EA6;\n",
              "    }\n",
              "\n",
              "    [theme=dark] .colab-df-convert {\n",
              "      background-color: #3B4455;\n",
              "      fill: #D2E3FC;\n",
              "    }\n",
              "\n",
              "    [theme=dark] .colab-df-convert:hover {\n",
              "      background-color: #434B5C;\n",
              "      box-shadow: 0px 1px 3px 1px rgba(0, 0, 0, 0.15);\n",
              "      filter: drop-shadow(0px 1px 2px rgba(0, 0, 0, 0.3));\n",
              "      fill: #FFFFFF;\n",
              "    }\n",
              "  </style>\n",
              "\n",
              "      <script>\n",
              "        const buttonEl =\n",
              "          document.querySelector('#df-48268ffe-05e6-4d38-aea2-283f13728bbf button.colab-df-convert');\n",
              "        buttonEl.style.display =\n",
              "          google.colab.kernel.accessAllowed ? 'block' : 'none';\n",
              "\n",
              "        async function convertToInteractive(key) {\n",
              "          const element = document.querySelector('#df-48268ffe-05e6-4d38-aea2-283f13728bbf');\n",
              "          const dataTable =\n",
              "            await google.colab.kernel.invokeFunction('convertToInteractive',\n",
              "                                                     [key], {});\n",
              "          if (!dataTable) return;\n",
              "\n",
              "          const docLinkHtml = 'Like what you see? Visit the ' +\n",
              "            '<a target=\"_blank\" href=https://colab.research.google.com/notebooks/data_table.ipynb>data table notebook</a>'\n",
              "            + ' to learn more about interactive tables.';\n",
              "          element.innerHTML = '';\n",
              "          dataTable['output_type'] = 'display_data';\n",
              "          await google.colab.output.renderOutput(dataTable, element);\n",
              "          const docLink = document.createElement('div');\n",
              "          docLink.innerHTML = docLinkHtml;\n",
              "          element.appendChild(docLink);\n",
              "        }\n",
              "      </script>\n",
              "    </div>\n",
              "  </div>\n",
              "  "
            ]
          },
          "metadata": {},
          "execution_count": 8
        }
      ]
    },
    {
      "cell_type": "code",
      "source": [
        "#CRIANDO UMA SESSÃO\n",
        "\n",
        "from pyspark.sql import SparkSession\n",
        "from pyspark.sql import Row\n",
        "\n",
        "spark = SparkSession.builder\\\n",
        ".master('local[*]')\\\n",
        ".appName('Dataframes com spark')\\\n",
        ".getOrCreate()\n",
        "\n",
        "#CRIANDO DATA FRAME\n",
        "\n",
        "df2 = spark.createDataFrame(\n",
        "    [Row(descrição='Monitor', preço=800, fabricante='Samsung')]\n",
        "\n",
        ")\n",
        "\n",
        "df2.show()\n",
        "df2.limit(10).toPandas()\n",
        "\n",
        "df3 = spark.createDataFrame(\n",
        "    [Row(descrição='Raygon', preço=800, fabricante='AMD')]\n",
        "\n",
        ")\n",
        "\n",
        "df_final = df2.unionAll(df3)\n",
        "\n",
        "df_final.show()\n",
        "\n",
        "df_final.printSchema()"
      ],
      "metadata": {
        "id": "5N0otXQRu9ek",
        "colab": {
          "base_uri": "https://localhost:8080/"
        },
        "outputId": "2f5cfda5-95f6-4275-9aaf-fe379d2c74ff"
      },
      "execution_count": 9,
      "outputs": [
        {
          "output_type": "stream",
          "name": "stdout",
          "text": [
            "+---------+-----+----------+\n",
            "|descrição|preço|fabricante|\n",
            "+---------+-----+----------+\n",
            "|  Monitor|  800|   Samsung|\n",
            "+---------+-----+----------+\n",
            "\n",
            "+---------+-----+----------+\n",
            "|descrição|preço|fabricante|\n",
            "+---------+-----+----------+\n",
            "|  Monitor|  800|   Samsung|\n",
            "|   Raygon|  800|       AMD|\n",
            "+---------+-----+----------+\n",
            "\n",
            "root\n",
            " |-- descrição: string (nullable = true)\n",
            " |-- preço: long (nullable = true)\n",
            " |-- fabricante: string (nullable = true)\n",
            "\n"
          ]
        }
      ]
    },
    {
      "cell_type": "code",
      "source": [
        "df_classe = spark.createDataFrame(\n",
        "    [Row(matricula='0001', nome='Nando', AV1=10, AV2=10, AV3=10)]\n",
        ")\n",
        "df_classe2 = spark.createDataFrame(\n",
        "    [Row(matricula='0002', nome='Felipe', AV1=10, AV2=10, AV3=10)]\n",
        ")\n",
        "df_classe3 = spark.createDataFrame(\n",
        "    [Row(matricula='0003', nome='Fer', AV1=10, AV2=10, AV3=10)]\n",
        ")\n",
        "df_classe4 = spark.createDataFrame(\n",
        "    [Row(matricula='0004', nome='Fernando', AV1=10, AV2=10, AV3=10)]\n",
        ")\n",
        "df_classe5 = spark.createDataFrame(\n",
        "    [Row(matricula='0005', nome='Luiz', AV1=10, AV2=10, AV3=10)]\n",
        ")\n",
        "\n",
        "df_final = df_classe.unionAll(df_classe2).unionAll(df_classe3).unionAll(df_classe4).unionAll(df_classe5)\n",
        "df_final.show()"
      ],
      "metadata": {
        "colab": {
          "base_uri": "https://localhost:8080/"
        },
        "id": "9BMHJYEizrYp",
        "outputId": "ecdeab91-5c7a-4921-ebdd-8ad82dc3493b"
      },
      "execution_count": 10,
      "outputs": [
        {
          "output_type": "stream",
          "name": "stdout",
          "text": [
            "+---------+--------+---+---+---+\n",
            "|matricula|    nome|AV1|AV2|AV3|\n",
            "+---------+--------+---+---+---+\n",
            "|     0001|   Nando| 10| 10| 10|\n",
            "|     0002|  Felipe| 10| 10| 10|\n",
            "|     0003|     Fer| 10| 10| 10|\n",
            "|     0004|Fernando| 10| 10| 10|\n",
            "|     0005|    Luiz| 10| 10| 10|\n",
            "+---------+--------+---+---+---+\n",
            "\n"
          ]
        }
      ]
    },
    {
      "cell_type": "code",
      "source": [
        "df_clubes = [\n",
        "    {'Nome':'Nando', 'Fundação':1969},\n",
        "    {'Nome':'Guilherme', 'Fundação':1973},\n",
        "    {'Nome':'Ferreira', 'Fundação':2003},\n",
        "    {'Nome':'Heitor', 'Fundação':2000},\n",
        "\n",
        "]\n",
        "\n",
        "df_clubes2 = spark.createDataFrame(df_clubes)\n",
        "\n",
        "df_clubes2.limit(5).toPandas()"
      ],
      "metadata": {
        "colab": {
          "base_uri": "https://localhost:8080/",
          "height": 175
        },
        "id": "qAfWWNII2cYr",
        "outputId": "bbef0ded-441d-491e-9c54-76edeca901c5"
      },
      "execution_count": 11,
      "outputs": [
        {
          "output_type": "execute_result",
          "data": {
            "text/plain": [
              "   Fundação       Nome\n",
              "0      1969      Nando\n",
              "1      1973  Guilherme\n",
              "2      2003   Ferreira\n",
              "3      2000     Heitor"
            ],
            "text/html": [
              "\n",
              "  <div id=\"df-2f63bea1-d94d-4350-9180-36f593d9d405\">\n",
              "    <div class=\"colab-df-container\">\n",
              "      <div>\n",
              "<style scoped>\n",
              "    .dataframe tbody tr th:only-of-type {\n",
              "        vertical-align: middle;\n",
              "    }\n",
              "\n",
              "    .dataframe tbody tr th {\n",
              "        vertical-align: top;\n",
              "    }\n",
              "\n",
              "    .dataframe thead th {\n",
              "        text-align: right;\n",
              "    }\n",
              "</style>\n",
              "<table border=\"1\" class=\"dataframe\">\n",
              "  <thead>\n",
              "    <tr style=\"text-align: right;\">\n",
              "      <th></th>\n",
              "      <th>Fundação</th>\n",
              "      <th>Nome</th>\n",
              "    </tr>\n",
              "  </thead>\n",
              "  <tbody>\n",
              "    <tr>\n",
              "      <th>0</th>\n",
              "      <td>1969</td>\n",
              "      <td>Nando</td>\n",
              "    </tr>\n",
              "    <tr>\n",
              "      <th>1</th>\n",
              "      <td>1973</td>\n",
              "      <td>Guilherme</td>\n",
              "    </tr>\n",
              "    <tr>\n",
              "      <th>2</th>\n",
              "      <td>2003</td>\n",
              "      <td>Ferreira</td>\n",
              "    </tr>\n",
              "    <tr>\n",
              "      <th>3</th>\n",
              "      <td>2000</td>\n",
              "      <td>Heitor</td>\n",
              "    </tr>\n",
              "  </tbody>\n",
              "</table>\n",
              "</div>\n",
              "      <button class=\"colab-df-convert\" onclick=\"convertToInteractive('df-2f63bea1-d94d-4350-9180-36f593d9d405')\"\n",
              "              title=\"Convert this dataframe to an interactive table.\"\n",
              "              style=\"display:none;\">\n",
              "        \n",
              "  <svg xmlns=\"http://www.w3.org/2000/svg\" height=\"24px\"viewBox=\"0 0 24 24\"\n",
              "       width=\"24px\">\n",
              "    <path d=\"M0 0h24v24H0V0z\" fill=\"none\"/>\n",
              "    <path d=\"M18.56 5.44l.94 2.06.94-2.06 2.06-.94-2.06-.94-.94-2.06-.94 2.06-2.06.94zm-11 1L8.5 8.5l.94-2.06 2.06-.94-2.06-.94L8.5 2.5l-.94 2.06-2.06.94zm10 10l.94 2.06.94-2.06 2.06-.94-2.06-.94-.94-2.06-.94 2.06-2.06.94z\"/><path d=\"M17.41 7.96l-1.37-1.37c-.4-.4-.92-.59-1.43-.59-.52 0-1.04.2-1.43.59L10.3 9.45l-7.72 7.72c-.78.78-.78 2.05 0 2.83L4 21.41c.39.39.9.59 1.41.59.51 0 1.02-.2 1.41-.59l7.78-7.78 2.81-2.81c.8-.78.8-2.07 0-2.86zM5.41 20L4 18.59l7.72-7.72 1.47 1.35L5.41 20z\"/>\n",
              "  </svg>\n",
              "      </button>\n",
              "      \n",
              "  <style>\n",
              "    .colab-df-container {\n",
              "      display:flex;\n",
              "      flex-wrap:wrap;\n",
              "      gap: 12px;\n",
              "    }\n",
              "\n",
              "    .colab-df-convert {\n",
              "      background-color: #E8F0FE;\n",
              "      border: none;\n",
              "      border-radius: 50%;\n",
              "      cursor: pointer;\n",
              "      display: none;\n",
              "      fill: #1967D2;\n",
              "      height: 32px;\n",
              "      padding: 0 0 0 0;\n",
              "      width: 32px;\n",
              "    }\n",
              "\n",
              "    .colab-df-convert:hover {\n",
              "      background-color: #E2EBFA;\n",
              "      box-shadow: 0px 1px 2px rgba(60, 64, 67, 0.3), 0px 1px 3px 1px rgba(60, 64, 67, 0.15);\n",
              "      fill: #174EA6;\n",
              "    }\n",
              "\n",
              "    [theme=dark] .colab-df-convert {\n",
              "      background-color: #3B4455;\n",
              "      fill: #D2E3FC;\n",
              "    }\n",
              "\n",
              "    [theme=dark] .colab-df-convert:hover {\n",
              "      background-color: #434B5C;\n",
              "      box-shadow: 0px 1px 3px 1px rgba(0, 0, 0, 0.15);\n",
              "      filter: drop-shadow(0px 1px 2px rgba(0, 0, 0, 0.3));\n",
              "      fill: #FFFFFF;\n",
              "    }\n",
              "  </style>\n",
              "\n",
              "      <script>\n",
              "        const buttonEl =\n",
              "          document.querySelector('#df-2f63bea1-d94d-4350-9180-36f593d9d405 button.colab-df-convert');\n",
              "        buttonEl.style.display =\n",
              "          google.colab.kernel.accessAllowed ? 'block' : 'none';\n",
              "\n",
              "        async function convertToInteractive(key) {\n",
              "          const element = document.querySelector('#df-2f63bea1-d94d-4350-9180-36f593d9d405');\n",
              "          const dataTable =\n",
              "            await google.colab.kernel.invokeFunction('convertToInteractive',\n",
              "                                                     [key], {});\n",
              "          if (!dataTable) return;\n",
              "\n",
              "          const docLinkHtml = 'Like what you see? Visit the ' +\n",
              "            '<a target=\"_blank\" href=https://colab.research.google.com/notebooks/data_table.ipynb>data table notebook</a>'\n",
              "            + ' to learn more about interactive tables.';\n",
              "          element.innerHTML = '';\n",
              "          dataTable['output_type'] = 'display_data';\n",
              "          await google.colab.output.renderOutput(dataTable, element);\n",
              "          const docLink = document.createElement('div');\n",
              "          docLink.innerHTML = docLinkHtml;\n",
              "          element.appendChild(docLink);\n",
              "        }\n",
              "      </script>\n",
              "    </div>\n",
              "  </div>\n",
              "  "
            ]
          },
          "metadata": {},
          "execution_count": 11
        }
      ]
    },
    {
      "cell_type": "code",
      "source": [
        "path = \"/content/sample_data/california_housing_test.csv\"\n",
        "\n",
        "house_df = spark.read.csv(path, sep=',', inferSchema=True, header=True)\n",
        "\n",
        "house_df = house_df.toDF('longitude','latitude','idade_mediana','total_comodos','total_quartos','população', 'familias','renda_mediana','valorCasa_mediana')\n",
        "\n",
        "house_df.count()\n",
        "house_df.select('*').where('total_quartos > 5000').show()\n",
        "#house_df.select('idade_mediana','total_quartos','valorCasa_mediana').show()\n",
        "#house_df.limit(100).toPandas()\n",
        "#house_df.show()"
      ],
      "metadata": {
        "colab": {
          "base_uri": "https://localhost:8080/"
        },
        "id": "pr6FqBZs-zTa",
        "outputId": "355d7f37-cba2-44e7-c791-afe3bce19f25"
      },
      "execution_count": 12,
      "outputs": [
        {
          "output_type": "stream",
          "name": "stdout",
          "text": [
            "+---------+--------+-------------+-------------+-------------+---------+--------+-------------+-----------------+\n",
            "|longitude|latitude|idade_mediana|total_comodos|total_quartos|população|familias|renda_mediana|valorCasa_mediana|\n",
            "+---------+--------+-------------+-------------+-------------+---------+--------+-------------+-----------------+\n",
            "|  -121.53|   38.48|          5.0|      27870.0|       5027.0|  11935.0|  4855.0|       4.8811|         212200.0|\n",
            "|  -118.44|   33.98|         21.0|      18132.0|       5419.0|   7431.0|  4930.0|       5.3359|         500001.0|\n",
            "|   -117.2|   33.58|          2.0|      30450.0|       5033.0|   9419.0|  3197.0|       4.5936|         174300.0|\n",
            "+---------+--------+-------------+-------------+-------------+---------+--------+-------------+-----------------+\n",
            "\n"
          ]
        }
      ]
    },
    {
      "cell_type": "code",
      "source": [
        "house_df.select('*').where('total_quartos > 5000').show()\n"
      ],
      "metadata": {
        "id": "c-o1sSz9EWDe",
        "outputId": "47678e28-8a7a-4b96-9225-9a5f6a55828b",
        "colab": {
          "base_uri": "https://localhost:8080/"
        }
      },
      "execution_count": 13,
      "outputs": [
        {
          "output_type": "stream",
          "name": "stdout",
          "text": [
            "+---------+--------+-------------+-------------+-------------+---------+--------+-------------+-----------------+\n",
            "|longitude|latitude|idade_mediana|total_comodos|total_quartos|população|familias|renda_mediana|valorCasa_mediana|\n",
            "+---------+--------+-------------+-------------+-------------+---------+--------+-------------+-----------------+\n",
            "|  -121.53|   38.48|          5.0|      27870.0|       5027.0|  11935.0|  4855.0|       4.8811|         212200.0|\n",
            "|  -118.44|   33.98|         21.0|      18132.0|       5419.0|   7431.0|  4930.0|       5.3359|         500001.0|\n",
            "|   -117.2|   33.58|          2.0|      30450.0|       5033.0|   9419.0|  3197.0|       4.5936|         174300.0|\n",
            "+---------+--------+-------------+-------------+-------------+---------+--------+-------------+-----------------+\n",
            "\n"
          ]
        }
      ]
    },
    {
      "cell_type": "markdown",
      "source": [
        "# Criando uma sessão no spark"
      ],
      "metadata": {
        "id": "2rKsJzv652Sd"
      }
    },
    {
      "cell_type": "code",
      "source": [
        "#spark = SparkSession.builder\\\n",
        "# .master('local[*]')\\\n",
        "#  .appName('Meu App Spark')\\\n",
        "#  .getOrCreate()"
      ],
      "metadata": {
        "id": "V207ZUX-7Q-P"
      },
      "execution_count": 14,
      "outputs": []
    },
    {
      "cell_type": "code",
      "source": [
        "from pyspark.sql import SparkSession\n",
        "\n",
        "spark = SparkSession.builder.master('local[*]').appName('Meu App Spark').getOrCreate()"
      ],
      "metadata": {
        "id": "5SRJNhfJ51zV"
      },
      "execution_count": 15,
      "outputs": []
    },
    {
      "cell_type": "markdown",
      "source": [
        "# Criando um dataset"
      ],
      "metadata": {
        "id": "2meb5_T29Fj_"
      }
    },
    {
      "cell_type": "code",
      "source": [
        "dataset = spark.read.csv('/content/sample_data/california_housing_test.csv', inferSchema=True, header=True)"
      ],
      "metadata": {
        "id": "X7FiJkCF9NgX"
      },
      "execution_count": 16,
      "outputs": []
    },
    {
      "cell_type": "markdown",
      "source": [
        "# Printando o schema"
      ],
      "metadata": {
        "id": "TZq_hLfT-I3L"
      }
    },
    {
      "cell_type": "code",
      "source": [
        "dataset.printSchema()"
      ],
      "metadata": {
        "colab": {
          "base_uri": "https://localhost:8080/"
        },
        "id": "ZJcocb_7-LsW",
        "outputId": "20afe0ec-d3e3-4ce2-8e00-4acfea3550e3"
      },
      "execution_count": 17,
      "outputs": [
        {
          "output_type": "stream",
          "name": "stdout",
          "text": [
            "root\n",
            " |-- longitude: double (nullable = true)\n",
            " |-- latitude: double (nullable = true)\n",
            " |-- housing_median_age: double (nullable = true)\n",
            " |-- total_rooms: double (nullable = true)\n",
            " |-- total_bedrooms: double (nullable = true)\n",
            " |-- population: double (nullable = true)\n",
            " |-- households: double (nullable = true)\n",
            " |-- median_income: double (nullable = true)\n",
            " |-- median_house_value: double (nullable = true)\n",
            "\n"
          ]
        }
      ]
    },
    {
      "cell_type": "markdown",
      "source": [
        "# Encerrar a sessão"
      ],
      "metadata": {
        "id": "IlwoLni8-jRd"
      }
    },
    {
      "cell_type": "code",
      "source": [
        "spark.stop()"
      ],
      "metadata": {
        "id": "STDBcFlC-lB1"
      },
      "execution_count": 18,
      "outputs": []
    }
  ]
}